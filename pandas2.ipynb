{
  "nbformat": 4,
  "nbformat_minor": 0,
  "metadata": {
    "colab": {
      "provenance": [],
      "authorship_tag": "ABX9TyOlsMh/4534IeqrOzAWQ8rx",
      "include_colab_link": true
    },
    "kernelspec": {
      "name": "python3",
      "display_name": "Python 3"
    },
    "language_info": {
      "name": "python"
    }
  },
  "cells": [
    {
      "cell_type": "markdown",
      "metadata": {
        "id": "view-in-github",
        "colab_type": "text"
      },
      "source": [
        "<a href=\"https://colab.research.google.com/github/hrxhit2214/data-science/blob/main/pandas2.ipynb\" target=\"_parent\"><img src=\"https://colab.research.google.com/assets/colab-badge.svg\" alt=\"Open In Colab\"/></a>"
      ]
    },
    {
      "cell_type": "code",
      "execution_count": 2,
      "metadata": {
        "colab": {
          "base_uri": "https://localhost:8080/"
        },
        "id": "cfO_-qMY_gBn",
        "outputId": "fff7989c-0e8d-4424-d34a-567a95a46636"
      },
      "outputs": [
        {
          "output_type": "stream",
          "name": "stdout",
          "text": [
            "0    1\n",
            "1    2\n",
            "2    3\n",
            "3    4\n",
            "4    5\n",
            "dtype: int64\n",
            "a    1\n",
            "b    2\n",
            "c    3\n",
            "d    4\n",
            "e    5\n",
            "Name: Number, dtype: int64\n",
            "1\n",
            "1\n",
            "1\n",
            "[[5 4 6 6 6]\n",
            " [6 6 6 5 6]\n",
            " [4 5 4 5 4]\n",
            " [4 6 6 4 5]\n",
            " [6 5 5 5 4]\n",
            " [4 4 5 5 4]\n",
            " [5 6 4 5 4]]\n",
            "   Akshay  Devashish  Divy  Monika  Kaushik\n",
            "0       5          4     6       6        6\n",
            "1       6          6     6       5        6\n",
            "2       4          5     4       5        4\n",
            "3       4          6     6       4        5\n",
            "4       6          5     5       5        4\n",
            "5       4          4     5       5        4\n",
            "6       5          6     4       5        4\n"
          ]
        },
        {
          "output_type": "stream",
          "name": "stderr",
          "text": [
            "<ipython-input-2-b0f86d9813a3>:17: FutureWarning: Series.__getitem__ treating keys as positions is deprecated. In a future version, integer keys will always be treated as labels (consistent with DataFrame behavior). To access a value by position, use `ser.iloc[pos]`\n",
            "  print(number_series[0])\n",
            "<ipython-input-2-b0f86d9813a3>:19: FutureWarning: Series.__getitem__ treating keys as positions is deprecated. In a future version, integer keys will always be treated as labels (consistent with DataFrame behavior). To access a value by position, use `ser.iloc[pos]`\n",
            "  print(number_series[0])\n"
          ]
        }
      ],
      "source": [
        "\n",
        "\n",
        "# import Package\n",
        "import pandas as pd\n",
        "import numpy as np\n",
        "pd.__version__\n",
        "\n",
        "\n",
        "\n",
        "number_series = pd.Series([1, 2, 3, 4, 5])\n",
        "print(number_series)\n",
        "\n",
        "\n",
        "\n",
        "number_series= pd.Series([1, 2, 3, 4, 5], index=['a', 'b', 'c', 'd', 'e'],name='Number')\n",
        "print(number_series)\n",
        "\n",
        "\n",
        "print(number_series[0])\n",
        "print(number_series['a'])\n",
        "print(number_series[0])\n",
        "\n",
        "some_2D_array = np.random.randint(4,7,(7, 5))\n",
        "print(some_2D_array)\n",
        "\n",
        "\n",
        "first_dataframe = pd.DataFrame(some_2D_array, columns=['Akshay', 'Devashish', 'Divy', 'Monika','Kaushik'])\n",
        "print(first_dataframe)\n",
        "\n"
      ]
    }
  ]
}