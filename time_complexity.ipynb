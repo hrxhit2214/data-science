{
  "nbformat": 4,
  "nbformat_minor": 0,
  "metadata": {
    "colab": {
      "provenance": [],
      "authorship_tag": "ABX9TyM0ZEbF3xkb8nyQy8l+q93Q",
      "include_colab_link": true
    },
    "kernelspec": {
      "name": "python3",
      "display_name": "Python 3"
    },
    "language_info": {
      "name": "python"
    }
  },
  "cells": [
    {
      "cell_type": "markdown",
      "metadata": {
        "id": "view-in-github",
        "colab_type": "text"
      },
      "source": [
        "<a href=\"https://colab.research.google.com/github/hrxhit2214/data-science/blob/main/time_complexity.ipynb\" target=\"_parent\"><img src=\"https://colab.research.google.com/assets/colab-badge.svg\" alt=\"Open In Colab\"/></a>"
      ]
    },
    {
      "cell_type": "code",
      "execution_count": 1,
      "metadata": {
        "colab": {
          "base_uri": "https://localhost:8080/"
        },
        "id": "XDdfCJo-Tl4X",
        "outputId": "7f0512be-27bf-4aad-fe06-169ec3a41541"
      },
      "outputs": [
        {
          "output_type": "stream",
          "name": "stdout",
          "text": [
            "1\n",
            "2\n",
            "3\n",
            "4\n",
            "5\n",
            "1 1\n",
            "1 2\n",
            "1 3\n",
            "1 4\n",
            "1 5\n",
            "2 1\n",
            "2 2\n",
            "2 3\n",
            "2 4\n",
            "2 5\n",
            "3 1\n",
            "3 2\n",
            "3 3\n",
            "3 4\n",
            "3 5\n",
            "4 1\n",
            "4 2\n",
            "4 3\n",
            "4 4\n",
            "4 5\n",
            "5 1\n",
            "5 2\n",
            "5 3\n",
            "5 4\n",
            "5 5\n"
          ]
        },
        {
          "output_type": "execute_result",
          "data": {
            "text/plain": [
              "[[0, 0, 0, 0, 0],\n",
              " [0, 0, 0, 0, 0],\n",
              " [0, 0, 0, 0, 0],\n",
              " [0, 0, 0, 0, 0],\n",
              " [0, 0, 0, 0, 0]]"
            ]
          },
          "metadata": {},
          "execution_count": 1
        }
      ],
      "source": [
        "# Time Complexity Examples\n",
        "\n",
        "def constant_time_example(arr):\n",
        "    # O(1) - Constant Time: Accessing an element by index takes the same time regardless of input size\n",
        "    return arr[0] if arr else None  # Returns the first element if the list is not empty\n",
        "\n",
        "\n",
        "def linear_time_example(arr):\n",
        "    # O(n) - Linear Time: Iterates through the entire list, taking time proportional to its size\n",
        "    for item in arr:\n",
        "        print(item)  # Prints each element in the array\n",
        "\n",
        "\n",
        "def quadratic_time_example(arr):\n",
        "    # O(n^2) - Quadratic Time: Nested loops result in a time complexity of n squared\n",
        "    for i in arr:\n",
        "        for j in arr:\n",
        "            print(i, j)  # Prints all pairs of elements\n",
        "\n",
        "\n",
        "# Space Complexity Examples\n",
        "\n",
        "def space_constant_example():\n",
        "    # O(1) - Constant Space: Uses a fixed amount of memory regardless of input size\n",
        "    x = 10  # Single integer variable\n",
        "    return x\n",
        "\n",
        "\n",
        "def space_linear_example(n):\n",
        "    # O(n) - Linear Space: Creates a list of size 'n', requiring memory proportional to 'n'\n",
        "    arr = [i for i in range(n)]  # List comprehension to create an array of size n\n",
        "    return arr\n",
        "\n",
        "\n",
        "def space_quadratic_example(n):\n",
        "    # O(n^2) - Quadratic Space: Creates an n x n matrix, requiring n squared space\n",
        "    matrix = [[0] * n for _ in range(n)]  # 2D list (matrix) of size n x n\n",
        "    return matrix\n",
        "\n",
        "\n",
        "# Example usage\n",
        "arr = [1, 2, 3, 4, 5]\n",
        "constant_time_example(arr)\n",
        "linear_time_example(arr)\n",
        "quadratic_time_example(arr)\n",
        "\n",
        "space_constant_example()\n",
        "space_linear_example(5)\n",
        "space_quadratic_example(5)"
      ]
    }
  ]
}