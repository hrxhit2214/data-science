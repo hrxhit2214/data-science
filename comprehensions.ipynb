{
  "nbformat": 4,
  "nbformat_minor": 0,
  "metadata": {
    "colab": {
      "provenance": [],
      "authorship_tag": "ABX9TyNGxAU03SLm6BckamBDILOj",
      "include_colab_link": true
    },
    "kernelspec": {
      "name": "python3",
      "display_name": "Python 3"
    },
    "language_info": {
      "name": "python"
    }
  },
  "cells": [
    {
      "cell_type": "markdown",
      "metadata": {
        "id": "view-in-github",
        "colab_type": "text"
      },
      "source": [
        "<a href=\"https://colab.research.google.com/github/hrxhit2214/data-science/blob/main/comprehensions.ipynb\" target=\"_parent\"><img src=\"https://colab.research.google.com/assets/colab-badge.svg\" alt=\"Open In Colab\"/></a>"
      ]
    },
    {
      "cell_type": "code",
      "execution_count": 1,
      "metadata": {
        "id": "f7bk5qcBTPSj",
        "outputId": "92cdba13-f6db-4123-f9b6-24e618dc8ffc",
        "colab": {
          "base_uri": "https://localhost:8080/"
        }
      },
      "outputs": [
        {
          "output_type": "stream",
          "name": "stdout",
          "text": [
            "Squared Numbers: [1, 4, 9, 16, 25]\n",
            "Even Numbers: [2, 4]\n",
            "Modified Numbers: [2, 2, 6, 4, 10]\n",
            "Flattened List: [1, 2, 3, 4, 5, 6, 7, 8, 9]\n",
            "Uppercase Names: ['ALICE', 'BOB', 'CHARLIE']\n",
            "Squares Dictionary: {1: 1, 2: 4, 3: 9, 4: 16, 5: 25}\n",
            "Squared Set: {1, 4, 9, 16, 25}\n",
            "Generated Squared Values: [1, 4, 9, 16, 25]\n"
          ]
        }
      ],
      "source": [
        "# List Comprehensions in Python - Beginner Friendly Guide\n",
        "\n",
        "# Basic List Comprehension\n",
        "# This creates a new list where each element is squared.\n",
        "numbers = [1, 2, 3, 4, 5]\n",
        "squared_numbers = [x ** 2 for x in numbers]  # Squaring each number in the list\n",
        "print(\"Squared Numbers:\", squared_numbers)\n",
        "\n",
        "# List Comprehension with a Condition\n",
        "# This filters out only even numbers from the list.\n",
        "even_numbers = [x for x in numbers if x % 2 == 0]\n",
        "print(\"Even Numbers:\", even_numbers)\n",
        "\n",
        "# Using List Comprehension with an if-else Condition\n",
        "# This creates a new list where even numbers remain the same and odd numbers are doubled.\n",
        "modified_numbers = [x if x % 2 == 0 else x * 2 for x in numbers]\n",
        "print(\"Modified Numbers:\", modified_numbers)\n",
        "\n",
        "# Nested List Comprehension\n",
        "# This flattens a 2D list (list of lists) into a single list.\n",
        "matrix = [[1, 2, 3], [4, 5, 6], [7, 8, 9]]\n",
        "flattened = [num for row in matrix for num in row]\n",
        "print(\"Flattened List:\", flattened)\n",
        "\n",
        "# List Comprehension with Function Calls\n",
        "# This converts a list of strings to uppercase.\n",
        "names = [\"alice\", \"bob\", \"charlie\"]\n",
        "uppercase_names = [name.upper() for name in names]\n",
        "print(\"Uppercase Names:\", uppercase_names)\n",
        "\n",
        "# Dictionary Comprehension\n",
        "# This creates a dictionary with numbers as keys and their squares as values.\n",
        "squares_dict = {x: x ** 2 for x in range(1, 6)}\n",
        "print(\"Squares Dictionary:\", squares_dict)\n",
        "\n",
        "# Set Comprehension\n",
        "# This removes duplicates and squares each number.\n",
        "numbers_with_duplicates = [1, 2, 2, 3, 4, 4, 5]\n",
        "squared_set = {x ** 2 for x in numbers_with_duplicates}\n",
        "print(\"Squared Set:\", squared_set)\n",
        "\n",
        "# Generator Comprehension\n",
        "# This creates a generator that lazily computes squared values.\n",
        "gen = (x ** 2 for x in range(1, 6))\n",
        "print(\"Generated Squared Values:\", list(gen))  # Converting generator to list for display"
      ]
    }
  ]
}