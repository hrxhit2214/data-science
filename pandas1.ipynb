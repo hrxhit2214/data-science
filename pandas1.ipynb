{
  "nbformat": 4,
  "nbformat_minor": 0,
  "metadata": {
    "colab": {
      "provenance": [],
      "authorship_tag": "ABX9TyMhtMyQA6oC6R2w8oWpkjIP",
      "include_colab_link": true
    },
    "kernelspec": {
      "name": "python3",
      "display_name": "Python 3"
    },
    "language_info": {
      "name": "python"
    }
  },
  "cells": [
    {
      "cell_type": "markdown",
      "metadata": {
        "id": "view-in-github",
        "colab_type": "text"
      },
      "source": [
        "<a href=\"https://colab.research.google.com/github/hrxhit2214/data-science/blob/main/pandas1.ipynb\" target=\"_parent\"><img src=\"https://colab.research.google.com/assets/colab-badge.svg\" alt=\"Open In Colab\"/></a>"
      ]
    },
    {
      "cell_type": "code",
      "execution_count": 2,
      "metadata": {
        "colab": {
          "base_uri": "https://localhost:8080/"
        },
        "id": "NNI-pxD9-9zP",
        "outputId": "8cd5b60b-343d-41ba-d7fa-4a1a49a4af8c"
      },
      "outputs": [
        {
          "output_type": "stream",
          "name": "stdout",
          "text": [
            "Initial DataFrame:\n",
            "       Name  Age         City\n",
            "0    Alice   25     New York\n",
            "1      Bob   30  Los Angeles\n",
            "2  Charlie   35      Chicago \n",
            "\n",
            "DataFrame read from CSV:\n",
            "       Name  Age         City\n",
            "0    Alice   25     New York\n",
            "1      Bob   30  Los Angeles\n",
            "2  Charlie   35      Chicago \n",
            "\n",
            "Selected Age column:\n",
            " 0    25\n",
            "1    30\n",
            "2    35\n",
            "Name: Age, dtype: int64 \n",
            "\n",
            "Filtered DataFrame (Age > 28):\n",
            "       Name  Age         City\n",
            "1      Bob   30  Los Angeles\n",
            "2  Charlie   35      Chicago \n",
            "\n",
            "DataFrame after adding Salary column:\n",
            "       Name  Age         City  Salary\n",
            "0    Alice   25     New York   50000\n",
            "1      Bob   30  Los Angeles   60000\n",
            "2  Charlie   35      Chicago   70000 \n",
            "\n",
            "DataFrame after dropping City column:\n",
            "       Name  Age  Salary\n",
            "0    Alice   25   50000\n",
            "1      Bob   30   60000\n",
            "2  Charlie   35   70000 \n",
            "\n",
            "Summary statistics:\n",
            "         Age   Salary\n",
            "count   3.0      3.0\n",
            "mean   30.0  60000.0\n",
            "std     5.0  10000.0\n",
            "min    25.0  50000.0\n",
            "25%    27.5  55000.0\n",
            "50%    30.0  60000.0\n",
            "75%    32.5  65000.0\n",
            "max    35.0  70000.0 \n",
            "\n",
            "Missing values in each column:\n",
            " Name      0\n",
            "Age       0\n",
            "Salary    0\n",
            "dtype: int64 \n",
            "\n"
          ]
        }
      ],
      "source": [
        "\n",
        "\n",
        "import pandas as pd  # Import the Pandas library\n",
        "\n",
        "# Creating a simple DataFrame\n",
        "data = {\n",
        "    'Name': ['Alice', 'Bob', 'Charlie'],\n",
        "    'Age': [25, 30, 35],\n",
        "    'City': ['New York', 'Los Angeles', 'Chicago']\n",
        "}\n",
        "df = pd.DataFrame(data)  # Convert dictionary into a DataFrame\n",
        "print(\"Initial DataFrame:\\n\", df, \"\\n\")\n",
        "\n",
        "# Writing a DataFrame to a CSV file\n",
        "df.to_csv('data.csv', index=False)  # Save the DataFrame to a CSV file without the index\n",
        "\n",
        "# Reading the same CSV file (ensuring it exists)\n",
        "df_csv = pd.read_csv('data.csv')  # Read the CSV file into a DataFrame\n",
        "print(\"DataFrame read from CSV:\\n\", df_csv.head(), \"\\n\")\n",
        "\n",
        "# Selecting a specific column\n",
        "ages = df['Age']  # Extract the 'Age' column\n",
        "print(\"Selected Age column:\\n\", ages, \"\\n\")\n",
        "\n",
        "# Filtering rows based on a condition\n",
        "filtered_df = df[df['Age'] > 28]  # Select rows where Age is greater than 28\n",
        "print(\"Filtered DataFrame (Age > 28):\\n\", filtered_df, \"\\n\")\n",
        "\n",
        "# Adding a new column\n",
        "df['Salary'] = [50000, 60000, 70000]  # Add a 'Salary' column to the DataFrame\n",
        "print(\"DataFrame after adding Salary column:\\n\", df, \"\\n\")\n",
        "\n",
        "# Dropping a column\n",
        "df = df.drop(columns=['City'])  # Remove the 'City' column from the DataFrame\n",
        "print(\"DataFrame after dropping City column:\\n\", df, \"\\n\")\n",
        "\n",
        "# Getting summary statistics\n",
        "print(\"Summary statistics:\\n\", df.describe(), \"\\n\")\n",
        "\n",
        "# Checking for missing values\n",
        "print(\"Missing values in each column:\\n\", df.isnull().sum(), \"\\n\")\n",
        "\n"
      ]
    }
  ]
}