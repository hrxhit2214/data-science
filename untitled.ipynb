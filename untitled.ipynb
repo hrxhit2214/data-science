{
  "nbformat": 4,
  "nbformat_minor": 0,
  "metadata": {
    "colab": {
      "provenance": [],
      "authorship_tag": "ABX9TyO29/cvjs2qtgjzHKcAz1eZ",
      "include_colab_link": true
    },
    "kernelspec": {
      "name": "python3",
      "display_name": "Python 3"
    },
    "language_info": {
      "name": "python"
    }
  },
  "cells": [
    {
      "cell_type": "markdown",
      "metadata": {
        "id": "view-in-github",
        "colab_type": "text"
      },
      "source": [
        "<a href=\"https://colab.research.google.com/github/hrxhit2214/data-science/blob/main/untitled.ipynb\" target=\"_parent\"><img src=\"https://colab.research.google.com/assets/colab-badge.svg\" alt=\"Open In Colab\"/></a>"
      ]
    },
    {
      "cell_type": "code",
      "execution_count": null,
      "metadata": {
        "id": "Z8d1W-vXdADc"
      },
      "outputs": [],
      "source": [
        "import numpy as np\n",
        "import math as math\n",
        "import sys\n",
        "\n"
      ]
    },
    {
      "cell_type": "code",
      "source": [
        "import numpy as np\n",
        "my_array = np.array([1,2,3,4,5,6,7])\n",
        "print(type(my_array))\n",
        "print(my_array.shape)\n",
        "print(my_array.size)\n"
      ],
      "metadata": {
        "colab": {
          "base_uri": "https://localhost:8080/"
        },
        "id": "1WIOJNYwYmzM",
        "outputId": "ae8a3b9e-0189-4a76-9182-94d8204a649b"
      },
      "execution_count": null,
      "outputs": [
        {
          "output_type": "stream",
          "name": "stdout",
          "text": [
            "<class 'numpy.ndarray'>\n",
            "(7,)\n",
            "7\n"
          ]
        }
      ]
    },
    {
      "cell_type": "code",
      "source": [
        "import numpy as np\n",
        "prime_array = np.array([2,3,5,7,7,11.5], dtype = \"str\")\n",
        "print(prime_array)\n",
        "type(prime_array[-1])\n",
        "type(prime_array)"
      ],
      "metadata": {
        "colab": {
          "base_uri": "https://localhost:8080/"
        },
        "id": "ZwmKVERCYmN2",
        "outputId": "dded5791-a600-4470-fa82-71865e94c31f"
      },
      "execution_count": null,
      "outputs": [
        {
          "output_type": "stream",
          "name": "stdout",
          "text": [
            "['2' '3' '5' '7' '7' '11.5']\n"
          ]
        },
        {
          "output_type": "execute_result",
          "data": {
            "text/plain": [
              "numpy.ndarray"
            ]
          },
          "metadata": {},
          "execution_count": 7
        }
      ]
    },
    {
      "cell_type": "code",
      "source": [
        "import numpy as np\n",
        "another_array = np.array([[1,2],[2,4]])\n",
        "print(another_array)"
      ],
      "metadata": {
        "colab": {
          "base_uri": "https://localhost:8080/"
        },
        "id": "BD37sys1ZWV0",
        "outputId": "39953675-ea03-4b38-c1f5-b236b5f2bb8a"
      },
      "execution_count": null,
      "outputs": [
        {
          "output_type": "stream",
          "name": "stdout",
          "text": [
            "[[1 2]\n",
            " [2 4]]\n"
          ]
        }
      ]
    },
    {
      "cell_type": "code",
      "source": [
        "list_of_list = [[1,2,3],[4,5,6],[7,8,9]]\n",
        "list_of_list[1][0]"
      ],
      "metadata": {
        "colab": {
          "base_uri": "https://localhost:8080/"
        },
        "id": "m_R4JKgVZ19Q",
        "outputId": "20d12eb9-7135-4572-d5b5-ffa8bc3dacfc"
      },
      "execution_count": null,
      "outputs": [
        {
          "output_type": "execute_result",
          "data": {
            "text/plain": [
              "4"
            ]
          },
          "metadata": {},
          "execution_count": 11
        }
      ]
    },
    {
      "cell_type": "code",
      "source": [
        "import sklearn as skl\n",
        "import sklearn.datasets as data"
      ],
      "metadata": {
        "id": "NyLSoG_3aHeT"
      },
      "execution_count": null,
      "outputs": []
    },
    {
      "cell_type": "code",
      "source": [
        "oned_array = np.array(range(0,10))\n",
        "oned_array\n",
        "print(oned_array[5])\n",
        "another_array = np.array([[1,2], [3,4]])\n",
        "print(another_array[1][0])\n",
        "print(another_array[1])\n",
        "print(another_array.shape)\n",
        "print(another_array[1:, 1:])\n"
      ],
      "metadata": {
        "colab": {
          "base_uri": "https://localhost:8080/"
        },
        "id": "CfWh5G9HaWi_",
        "outputId": "6c2237c7-97c2-4b36-a983-bdc0f2a34bc0"
      },
      "execution_count": null,
      "outputs": [
        {
          "output_type": "stream",
          "name": "stdout",
          "text": [
            "5\n",
            "3\n",
            "[3 4]\n",
            "(2, 2)\n",
            "[[4]]\n"
          ]
        }
      ]
    },
    {
      "cell_type": "code",
      "source": [
        "twod_array = np.array([[1,2,3,4], [5,6,7,8]])\n",
        "twod_array.shape"
      ],
      "metadata": {
        "colab": {
          "base_uri": "https://localhost:8080/"
        },
        "id": "3GpmVmEda_xm",
        "outputId": "7c7ad77a-67dd-48b7-bd8a-c485463b3389"
      },
      "execution_count": null,
      "outputs": [
        {
          "output_type": "execute_result",
          "data": {
            "text/plain": [
              "(2, 4)"
            ]
          },
          "metadata": {},
          "execution_count": 17
        }
      ]
    },
    {
      "cell_type": "code",
      "source": [
        "import numpy as np\n",
        "import matplotlib.pyplot as plt\n",
        "height = 100\n",
        "width = 100\n",
        "random_image = np.random.randint(0,256,(height,width,3), dtype = np.uint8)\n",
        "print(\"Matrix represented the random colored image:\")\n",
        "print(random_image)\n",
        "plt.imshow(random_image)\n",
        "plt.title('Random Colored Image')\n",
        "plt.axis('off')\n",
        "plt.show()"
      ],
      "metadata": {
        "colab": {
          "base_uri": "https://localhost:8080/",
          "height": 1000
        },
        "id": "zepnjFTkbIv1",
        "outputId": "0d43a76f-6e0c-4b82-fe7c-7736ec2b3887"
      },
      "execution_count": null,
      "outputs": [
        {
          "output_type": "stream",
          "name": "stdout",
          "text": [
            "Matrix represented the random colored image:\n",
            "[[[ 78  75 207]\n",
            "  [ 12 165  46]\n",
            "  [142 102 127]\n",
            "  ...\n",
            "  [ 48 140 203]\n",
            "  [ 53  83  69]\n",
            "  [242  31 238]]\n",
            "\n",
            " [[ 80 101  42]\n",
            "  [185 105  31]\n",
            "  [208 155 135]\n",
            "  ...\n",
            "  [169  52  68]\n",
            "  [217  13 181]\n",
            "  [107 153 205]]\n",
            "\n",
            " [[155 217 249]\n",
            "  [166  10 124]\n",
            "  [ 71  77  76]\n",
            "  ...\n",
            "  [239 192 174]\n",
            "  [225  67 184]\n",
            "  [ 98  94  52]]\n",
            "\n",
            " ...\n",
            "\n",
            " [[193  65 132]\n",
            "  [ 83 236 144]\n",
            "  [119  31 154]\n",
            "  ...\n",
            "  [130 177  77]\n",
            "  [ 95 170  41]\n",
            "  [148  88 127]]\n",
            "\n",
            " [[154 133 164]\n",
            "  [210  67 200]\n",
            "  [225 116  83]\n",
            "  ...\n",
            "  [199   0 177]\n",
            "  [138  66 221]\n",
            "  [ 67 236 241]]\n",
            "\n",
            " [[ 94 242  76]\n",
            "  [180 119  36]\n",
            "  [254 132   5]\n",
            "  ...\n",
            "  [ 75 201 188]\n",
            "  [235  38 106]\n",
            "  [192   0  12]]]\n"
          ]
        },
        {
          "output_type": "display_data",
          "data": {
            "text/plain": [
              "<Figure size 640x480 with 1 Axes>"
            ],
            "image/png": "[encoded data removed]"
          },
          "metadata": {}
        }
      ]
    },
    {
      "cell_type": "code",
      "source": [
        "threeD_array = np.array([[[1,2,3,4],\n",
        "                         [5,6,7,8]],\n",
        "                       [[9,10,11,12],\n",
        "                        [13,14,15,16]]] )\n",
        "print(threeD_array)\n",
        "print(threeD_array.shape)\n",
        "print(threeD_array[0][1][3])"
      ],
      "metadata": {
        "colab": {
          "base_uri": "https://localhost:8080/"
        },
        "id": "Bj68KzrFb_dj",
        "outputId": "391db6f9-cf9b-4073-857d-c811d8c4de1d"
      },
      "execution_count": null,
      "outputs": [
        {
          "output_type": "stream",
          "name": "stdout",
          "text": [
            "[[[ 1  2  3  4]\n",
            "  [ 5  6  7  8]]\n",
            "\n",
            " [[ 9 10 11 12]\n",
            "  [13 14 15 16]]]\n",
            "(2, 2, 4)\n",
            "8\n"
          ]
        }
      ]
    },
    {
      "cell_type": "code",
      "source": [
        "matrix =np.random.randint(0,1,(50,50), dtype = np.uint8)\n",
        "plt.imshow(matrix[:,])"
      ],
      "metadata": {
        "colab": {
          "base_uri": "https://localhost:8080/",
          "height": 449
        },
        "id": "xw3cbvA6c9pH",
        "outputId": "fd4062f8-3723-43a5-ade6-a9251170e9b7"
      },
      "execution_count": null,
      "outputs": [
        {
          "output_type": "execute_result",
          "data": {
            "text/plain": [
              "<matplotlib.image.AxesImage at 0x7c3e5c10aa90>"
            ]
          },
          "metadata": {},
          "execution_count": 23
        },
        {
          "output_type": "display_data",
          "data": {
            "text/plain": [
              "<Figure size 640x480 with 1 Axes>"
            ],
            "image/png": "[encoded data removed]"
          },
          "metadata": {}
        }
      ]
    },
    {
      "cell_type": "code",
      "source": [
        "plt.imshow(matrix[:,])\n",
        "plt.axis('off')\n",
        "plt.show()"
      ],
      "metadata": {
        "colab": {
          "base_uri": "https://localhost:8080/",
          "height": 406
        },
        "id": "hmZw1NsGdcHJ",
        "outputId": "208afe26-78d8-429b-8214-9ceeba01b977"
      },
      "execution_count": null,
      "outputs": [
        {
          "output_type": "display_data",
          "data": {
            "text/plain": [
              "<Figure size 640x480 with 1 Axes>"
            ],
            "image/png": "[encoded data removed]"
          },
          "metadata": {}
        }
      ]
    },
    {
      "cell_type": "code",
      "source": [
        "matrix.shape"
      ],
      "metadata": {
        "colab": {
          "base_uri": "https://localhost:8080/"
        },
        "id": "KTky0EkSdo6G",
        "outputId": "8fb1c82f-eeb7-4696-a0c3-43977bb842e7"
      },
      "execution_count": null,
      "outputs": [
        {
          "output_type": "execute_result",
          "data": {
            "text/plain": [
              "(50, 50)"
            ]
          },
          "metadata": {},
          "execution_count": 25
        }
      ]
    },
    {
      "cell_type": "code",
      "source": [
        "matrix"
      ],
      "metadata": {
        "colab": {
          "base_uri": "https://localhost:8080/",
          "height": 158
        },
        "id": "NtXNdEzqeAgU",
        "outputId": "f3e9308f-daad-4bef-ed8e-91cdc6f304be"
      },
      "execution_count": null,
      "outputs": [
        {
          "output_type": "execute_result",
          "data": {
            "text/plain": [
              "array([[0, 0, 0, ..., 0, 0, 0],\n",
              "       [0, 0, 0, ..., 0, 0, 0],\n",
              "       [0, 0, 0, ..., 0, 0, 0],\n",
              "       ...,\n",
              "       [0, 0, 0, ..., 0, 0, 0],\n",
              "       [0, 0, 0, ..., 0, 0, 0],\n",
              "       [0, 0, 0, ..., 0, 0, 0]], dtype=uint8)"
            ],
            "text/html": [
              "<style>\n",
              "      .ndarray_repr .ndarray_raw_data {\n",
              "        display: none;\n",
              "      }\n",
              "      .ndarray_repr.show_array .ndarray_raw_data {\n",
              "        display: block;\n",
              "      }\n",
              "      .ndarray_repr.show_array .ndarray_image_preview {\n",
              "        display: none;\n",
              "      }\n",
              "      </style>\n",
              "      <div id=\"id-649de32b-d212-433f-b5b2-11ab6ebd69b9\" class=\"ndarray_repr\"><pre>ndarray (50, 50) <button style=\"padding: 0 2px;\">show data</button></pre><img src=\"data:image/png;base64,iVBORw0KGgoAAAANSUhEUgAAADIAAAAyCAAAAAA7VNdtAAAAGUlEQVR4nO3BAQ0AAADCoPdPbQ8HFAAA/wYJ9gAByjRWDQAAAABJRU5ErkJggg==\" class=\"ndarray_image_preview\" /><pre class=\"ndarray_raw_data\">array([[0, 0, 0, ..., 0, 0, 0],\n",
              "       [0, 0, 0, ..., 0, 0, 0],\n",
              "       [0, 0, 0, ..., 0, 0, 0],\n",
              "       ...,\n",
              "       [0, 0, 0, ..., 0, 0, 0],\n",
              "       [0, 0, 0, ..., 0, 0, 0],\n",
              "       [0, 0, 0, ..., 0, 0, 0]], dtype=uint8)</pre></div><script>\n",
              "      (() => {\n",
              "      const titles = ['show data', 'hide data'];\n",
              "      let index = 0\n",
              "      document.querySelector('#id-649de32b-d212-433f-b5b2-11ab6ebd69b9 button').onclick = (e) => {\n",
              "        document.querySelector('#id-649de32b-d212-433f-b5b2-11ab6ebd69b9').classList.toggle('show_array');\n",
              "        index = (++index) % 2;\n",
              "        document.querySelector('#id-649de32b-d212-433f-b5b2-11ab6ebd69b9 button').textContent = titles[index];\n",
              "        e.preventDefault();\n",
              "        e.stopPropagation();\n",
              "      }\n",
              "      })();\n",
              "    </script>"
            ]
          },
          "metadata": {},
          "execution_count": 26
        }
      ]
    },
    {
      "cell_type": "code",
      "source": [
        "import numpy as np\n",
        "import matplotlib.pyplot as plt\n",
        "width = 100\n",
        "height = 100\n",
        "black_image = np.random.binomial(2,0.5,(height, width))\n",
        "plt.imshow(black_image, cmap = 'gray')\n",
        "plt.axis('off')\n",
        "plt.show()"
      ],
      "metadata": {
        "colab": {
          "base_uri": "https://localhost:8080/",
          "height": 406
        },
        "id": "BjqFreIweVCv",
        "outputId": "859e35b1-6c18-47f6-85f6-e7a6c615c6d6"
      },
      "execution_count": null,
      "outputs": [
        {
          "output_type": "display_data",
          "data": {
            "text/plain": [
              "<Figure size 640x480 with 1 Axes>"
            ],
            "image/png": "[encoded data removed]"
          },
          "metadata": {}
        }
      ]
    },
    {
      "cell_type": "code",
      "source": [
        "import numpy as np\n",
        "import matplotlib.pyplot as plt\n",
        "width = 5\n",
        "height = 5\n",
        "matrix = np.random.randint(250,255,(height,width), dtype =np.uint8)\n",
        "plt.imshow(matrix[:,])\n",
        "plt.axis('off')\n",
        "plt.show()"
      ],
      "metadata": {
        "colab": {
          "base_uri": "https://localhost:8080/",
          "height": 406
        },
        "id": "HbaiNW2Wet91",
        "outputId": "6059c503-4632-481c-9dc3-e86aaf61ce23"
      },
      "execution_count": null,
      "outputs": [
        {
          "output_type": "display_data",
          "data": {
            "text/plain": [
              "<Figure size 640x480 with 1 Axes>"
            ],
            "image/png": "[encoded data removed]"
          },
          "metadata": {}
        }
      ]
    },
    {
      "cell_type": "code",
      "source": [
        "matrix"
      ],
      "metadata": {
        "colab": {
          "base_uri": "https://localhost:8080/"
        },
        "id": "RVaN2FCHfJyn",
        "outputId": "1638bc25-999d-4e90-8b84-e30f8ac936b0"
      },
      "execution_count": null,
      "outputs": [
        {
          "output_type": "execute_result",
          "data": {
            "text/plain": [
              "array([[253, 254, 252, 252, 254],\n",
              "       [253, 252, 254, 254, 252],\n",
              "       [251, 253, 253, 250, 250],\n",
              "       [253, 254, 253, 251, 252],\n",
              "       [250, 254, 253, 253, 250]], dtype=uint8)"
            ]
          },
          "metadata": {},
          "execution_count": 31
        }
      ]
    },
    {
      "cell_type": "code",
      "source": [
        "matrix.shape"
      ],
      "metadata": {
        "colab": {
          "base_uri": "https://localhost:8080/"
        },
        "id": "h2DGf0l1fQxf",
        "outputId": "d25599f8-5d1f-4ca4-ce4d-5f31ab819cf6"
      },
      "execution_count": null,
      "outputs": [
        {
          "output_type": "execute_result",
          "data": {
            "text/plain": [
              "(5, 5)"
            ]
          },
          "metadata": {},
          "execution_count": 34
        }
      ]
    },
    {
      "cell_type": "code",
      "source": [
        "matrix.size"
      ],
      "metadata": {
        "colab": {
          "base_uri": "https://localhost:8080/"
        },
        "id": "WR4ssVI1fvqH",
        "outputId": "68e4bfdd-7315-416d-938c-a3f3b106ab7c"
      },
      "execution_count": null,
      "outputs": [
        {
          "output_type": "execute_result",
          "data": {
            "text/plain": [
              "25"
            ]
          },
          "metadata": {},
          "execution_count": 35
        }
      ]
    },
    {
      "cell_type": "code",
      "source": [
        "matrix[1:5, 1:5]"
      ],
      "metadata": {
        "colab": {
          "base_uri": "https://localhost:8080/"
        },
        "id": "nTSSWOBafyR1",
        "outputId": "98a124a0-eab9-4915-9596-6a4c4df5be8c"
      },
      "execution_count": null,
      "outputs": [
        {
          "output_type": "execute_result",
          "data": {
            "text/plain": [
              "array([[250, 252, 253, 253],\n",
              "       [251, 251, 251, 251],\n",
              "       [252, 254, 250, 251],\n",
              "       [250, 252, 251, 251]], dtype=uint8)"
            ]
          },
          "metadata": {},
          "execution_count": 37
        }
      ]
    },
    {
      "cell_type": "code",
      "source": [
        "matrix.shape"
      ],
      "metadata": {
        "colab": {
          "base_uri": "https://localhost:8080/"
        },
        "id": "MUU_4Kurf6PP",
        "outputId": "caad516b-9bde-4185-c76c-2c591e948245"
      },
      "execution_count": null,
      "outputs": [
        {
          "output_type": "execute_result",
          "data": {
            "text/plain": [
              "(5, 5)"
            ]
          },
          "metadata": {},
          "execution_count": 39
        }
      ]
    },
    {
      "cell_type": "code",
      "source": [
        "alma_array = np.array([[1,2,3], [4,5,6]])\n",
        "print(alma_array.shape)"
      ],
      "metadata": {
        "colab": {
          "base_uri": "https://localhost:8080/"
        },
        "id": "PKDtoKDFgAlN",
        "outputId": "763963fd-fb9f-451a-859d-3e1df3f07385"
      },
      "execution_count": null,
      "outputs": [
        {
          "output_type": "stream",
          "name": "stdout",
          "text": [
            "(2, 3)\n"
          ]
        }
      ]
    },
    {
      "cell_type": "code",
      "source": [
        "alma_array.ndim"
      ],
      "metadata": {
        "colab": {
          "base_uri": "https://localhost:8080/"
        },
        "id": "IleROcIhgKpk",
        "outputId": "8617722e-208a-4ac0-b9f0-512d6c8ad567"
      },
      "execution_count": null,
      "outputs": [
        {
          "output_type": "execute_result",
          "data": {
            "text/plain": [
              "2"
            ]
          },
          "metadata": {},
          "execution_count": 41
        }
      ]
    },
    {
      "cell_type": "code",
      "source": [
        "alma_array = np.array([[1,2,3,4,], [4,5,6,10]])\n",
        "print(alma_array.shape)"
      ],
      "metadata": {
        "colab": {
          "base_uri": "https://localhost:8080/"
        },
        "id": "9dSatlTcgXhf",
        "outputId": "8948fc61-53a2-4206-fd25-84fe66ad459d"
      },
      "execution_count": null,
      "outputs": [
        {
          "output_type": "stream",
          "name": "stdout",
          "text": [
            "(2, 4)\n"
          ]
        }
      ]
    },
    {
      "cell_type": "code",
      "source": [
        "alma_array =np.array([[[1,2,3], [4,5,6]],\n",
        "                      [[1,2,3],[4,5,6]],\n",
        "                      [[1,2,3],[4,5,6]],\n",
        "                      [[1,2,3], [4,5,6]] ])\n",
        "print(alma_array)\n",
        "print(alma_array.shape)"
      ],
      "metadata": {
        "id": "DDI58m0ngYPH",
        "colab": {
          "base_uri": "https://localhost:8080/"
        },
        "outputId": "26a47655-97f2-4d61-a0b1-927130fa8cc9"
      },
      "execution_count": null,
      "outputs": [
        {
          "output_type": "stream",
          "name": "stdout",
          "text": [
            "[[[1 2 3]\n",
            "  [4 5 6]]\n",
            "\n",
            " [[1 2 3]\n",
            "  [4 5 6]]\n",
            "\n",
            " [[1 2 3]\n",
            "  [4 5 6]]\n",
            "\n",
            " [[1 2 3]\n",
            "  [4 5 6]]]\n",
            "(4, 2, 3)\n"
          ]
        }
      ]
    },
    {
      "cell_type": "code",
      "source": [
        "array_of_integers = np.array([0,1,2,3,4,5,6,7,8,9])\n",
        "print(\"Dimensions of 'array_of_integers' = \", array_of_integers.ndim)\n",
        "sample_2d_array = np.array([[1,2,3], [4,5,6]])\n",
        "print(\"Dimensions of' sample_2d_array' = \", sample_2d_array.ndim)"
      ],
      "metadata": {
        "id": "O9ItvAekgYgk",
        "colab": {
          "base_uri": "https://localhost:8080/"
        },
        "outputId": "0232168f-461f-4bad-9d6e-8fd2e5eb43ed"
      },
      "execution_count": null,
      "outputs": [
        {
          "output_type": "stream",
          "name": "stdout",
          "text": [
            "Dimensions of 'array_of_integers' =  1\n",
            "Dimensions of' sample_2d_array' =  2\n"
          ]
        }
      ]
    },
    {
      "cell_type": "code",
      "source": [
        "my_array = np.array([[1,2,3], [4,5,6]])\n",
        "print(my_array.dtype)"
      ],
      "metadata": {
        "id": "wgEeg_HEgYyc",
        "colab": {
          "base_uri": "https://localhost:8080/"
        },
        "outputId": "6dd60839-2f6d-4c08-9c3d-bfcba4906668"
      },
      "execution_count": null,
      "outputs": [
        {
          "output_type": "stream",
          "name": "stdout",
          "text": [
            "int64\n"
          ]
        }
      ]
    },
    {
      "cell_type": "code",
      "source": [
        "my_list = [1,2,3,4,5,'abc']\n",
        "my_list"
      ],
      "metadata": {
        "colab": {
          "base_uri": "https://localhost:8080/"
        },
        "id": "AuZJMrxektc9",
        "outputId": "fa0835a1-3be7-4a45-fc90-7bda696640b2"
      },
      "execution_count": null,
      "outputs": [
        {
          "output_type": "execute_result",
          "data": {
            "text/plain": [
              "[1, 2, 3, 4, 5, 'abc']"
            ]
          },
          "metadata": {},
          "execution_count": 9
        }
      ]
    },
    {
      "cell_type": "code",
      "source": [
        "my_array = np.array(['abd', 'bcd', 'abc'])\n",
        "print(my_array.dtype)"
      ],
      "metadata": {
        "colab": {
          "base_uri": "https://localhost:8080/"
        },
        "id": "2xNXo_9Ak0qv",
        "outputId": "72b993b8-c4fc-4f1a-fc58-3e531d66509e"
      },
      "execution_count": null,
      "outputs": [
        {
          "output_type": "stream",
          "name": "stdout",
          "text": [
            "<U3\n"
          ]
        }
      ]
    },
    {
      "cell_type": "code",
      "source": [
        "my_array"
      ],
      "metadata": {
        "colab": {
          "base_uri": "https://localhost:8080/"
        },
        "id": "GaD1AZLwlDBE",
        "outputId": "a30e727d-6fdc-4fbf-bb77-fe81e73423b0"
      },
      "execution_count": null,
      "outputs": [
        {
          "output_type": "execute_result",
          "data": {
            "text/plain": [
              "array(['abd', 'bcd', 'abc'], dtype='<U3')"
            ]
          },
          "metadata": {},
          "execution_count": 11
        }
      ]
    },
    {
      "cell_type": "code",
      "source": [
        "arravali = np.array([2,3,4])\n",
        "print(arravali.dtype)\n",
        "print(arravali)"
      ],
      "metadata": {
        "colab": {
          "base_uri": "https://localhost:8080/"
        },
        "id": "6KC5hwT9lH7i",
        "outputId": "7b6e3882-ece3-4a1d-a1cc-a42cb49a47cb"
      },
      "execution_count": null,
      "outputs": [
        {
          "output_type": "stream",
          "name": "stdout",
          "text": [
            "int64\n",
            "[2 3 4]\n"
          ]
        }
      ]
    }
  ]
}